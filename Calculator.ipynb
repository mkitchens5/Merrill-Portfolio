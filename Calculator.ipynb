{
 "cells": [
  {
   "cell_type": "code",
   "execution_count": 2,
   "id": "7ecb44e4-477b-4e78-bef5-c31cde08e4e0",
   "metadata": {},
   "outputs": [],
   "source": [
    "def add(x,y):\n",
    "    return x + y\n",
    "\n",
    "def subract(x,y):\n",
    "    return x + y\n",
    "\n",
    "def multiply(x,y):\n",
    "    return x + y\n",
    "\n",
    "def divide(x,y):\n",
    "    return x + y"
   ]
  },
  {
   "cell_type": "code",
   "execution_count": 4,
   "id": "28bdb582-5cfd-47c8-824d-29d474ea2767",
   "metadata": {},
   "outputs": [
    {
     "name": "stdin",
     "output_type": "stream",
     "text": [
      "Enter Choice (A,S,M,D):  A\n",
      "Enter first number:  1\n",
      "Enter second number:  2\n"
     ]
    }
   ],
   "source": [
    "choice = input('Enter Choice (A,S,M,D): ')\n",
    "\n",
    "num_1 = float(input('Enter first number: '))\n",
    "\n",
    "num_2 = float(input('Enter second number: '))"
   ]
  },
  {
   "cell_type": "code",
   "execution_count": 28,
   "id": "cf4dc779-ea8e-4382-bbf6-2c1f45dc9c0b",
   "metadata": {},
   "outputs": [
    {
     "name": "stdout",
     "output_type": "stream",
     "text": [
      "Enter 'A' for Addition.\n",
      "Enter 'S' for Subtraction.\n",
      "Enter 'M' for Multiplication.\n",
      "Enter 'D' for Division.\n"
     ]
    },
    {
     "name": "stdin",
     "output_type": "stream",
     "text": [
      "Enter Choice (A,S,M,D):  a\n",
      "Enter first number:  1\n",
      "Enter second number:  2\n"
     ]
    },
    {
     "name": "stdout",
     "output_type": "stream",
     "text": [
      "Result:  1.0 + 2.0 = 3.0\n"
     ]
    },
    {
     "name": "stdin",
     "output_type": "stream",
     "text": [
      "Want to do another calculation? Type (yes/no?):  no\n"
     ]
    }
   ],
   "source": [
    "def add(a, b):\n",
    "    return a + b\n",
    "\n",
    "def subtract(a, b):\n",
    "    return a - b\n",
    "\n",
    "def multiply(a, b):\n",
    "    return a * b\n",
    "\n",
    "def divide(a, b):\n",
    "    return a / b if b != 0 else 'Error: Division by zero'\n",
    "\n",
    "print(\"Enter 'A' for Addition.\")\n",
    "print(\"Enter 'S' for Subtraction.\")\n",
    "print(\"Enter 'M' for Multiplication.\")\n",
    "print(\"Enter 'D' for Division.\")\n",
    "\n",
    "choice = input('Enter Choice (A,S,M,D): ')\n",
    "\n",
    "while True:\n",
    "    if choice.upper() in ('A', 'ADD', 'ADDITION', 'S', 'SUBTRACT', 'SUBTRACTION', 'M', 'MULTIPLY', 'MULTIPLICATION', 'D', 'DIVISION', 'DIVIDE'):\n",
    "        num_1 = float(input('Enter first number: '))\n",
    "        num_2 = float(input('Enter second number: '))\n",
    "\n",
    "    if choice.upper() in ('A', 'ADD', 'ADDITION'):\n",
    "        print('Result: ', num_1, '+' , num_2, '=', add(num_1, num_2))\n",
    "        \n",
    "    elif choice.upper() in ('S', 'SUBTRACT', 'SUBTRACTION'):\n",
    "        print('Result: ', num_1, '-' , num_2, '=', subtract(num_1, num_2))\n",
    "        \n",
    "    elif choice.upper() in ('M', 'MULTIPLY', 'MULTIPLICATION'):\n",
    "        print('Result: ', num_1, 'x' , num_2, '=', multiply(num_1, num_2))\n",
    "        \n",
    "    elif choice.upper() in ('D', 'DIVISION', 'DIVIDE'):\n",
    "        print('Result: ', num_1, '/' , num_2, '=', divide(num_1, num_2))\n",
    "\n",
    "    else:\n",
    "        print(\"Please input a correct choice.\")\n",
    "\n",
    "    next_calculation = input(\"Want to do another calculation? Type (yes/no?): \")\n",
    "    if next_calculation.lower() in ('no', 'n', 'nah', 'nope'):\n",
    "        break\n",
    "    else:\n",
    "        choice = input('Enter Choice (A,S,M,D): ')\n",
    "\n",
    "   "
   ]
  },
  {
   "cell_type": "code",
   "execution_count": null,
   "id": "be5fabc7-4f51-4c62-ac6c-e38c6705ba31",
   "metadata": {},
   "outputs": [],
   "source": []
  },
  {
   "cell_type": "code",
   "execution_count": null,
   "id": "1d73ec9c-0f9c-4586-aa01-9c301f938e3d",
   "metadata": {},
   "outputs": [],
   "source": []
  },
  {
   "cell_type": "code",
   "execution_count": null,
   "id": "ed560368-b2e5-4c31-9a67-22229b8af3cb",
   "metadata": {},
   "outputs": [],
   "source": []
  }
 ],
 "metadata": {
  "kernelspec": {
   "display_name": "Python [conda env:base] *",
   "language": "python",
   "name": "conda-base-py"
  },
  "language_info": {
   "codemirror_mode": {
    "name": "ipython",
    "version": 3
   },
   "file_extension": ".py",
   "mimetype": "text/x-python",
   "name": "python",
   "nbconvert_exporter": "python",
   "pygments_lexer": "ipython3",
   "version": "3.12.7"
  }
 },
 "nbformat": 4,
 "nbformat_minor": 5
}
