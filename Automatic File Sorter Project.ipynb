{
 "cells": [
  {
   "cell_type": "markdown",
   "id": "66c900f7-9155-4803-af8a-f3679cb8866f",
   "metadata": {},
   "source": [
    "### Automatic File Sorter Project"
   ]
  },
  {
   "cell_type": "code",
   "execution_count": 79,
   "id": "bd5138cc-7276-4f7d-a759-a862db654bec",
   "metadata": {},
   "outputs": [],
   "source": [
    "import os, shutil"
   ]
  },
  {
   "cell_type": "code",
   "execution_count": 80,
   "id": "ae8d7467-3882-446b-a371-0f043ebccafb",
   "metadata": {},
   "outputs": [],
   "source": [
    "path = r'C:\\Users\\Yeyian PC\\OneDrive\\Documents\\Automatic_Sorter\\\\'"
   ]
  },
  {
   "cell_type": "code",
   "execution_count": 81,
   "id": "1e28909a-92dc-4961-8528-c8134dd3beb7",
   "metadata": {},
   "outputs": [
    {
     "data": {
      "text/plain": [
       "['CSV Files', 'Excel Files', 'Image Files', 'Text Files']"
      ]
     },
     "execution_count": 81,
     "metadata": {},
     "output_type": "execute_result"
    }
   ],
   "source": [
    "os.listdir(path)"
   ]
  },
  {
   "cell_type": "code",
   "execution_count": 82,
   "id": "3596d7fc-5bf8-403e-b20c-d2c1b74af1ac",
   "metadata": {},
   "outputs": [],
   "source": [
    "#os.makedirs(path + new_folder_name)"
   ]
  },
  {
   "cell_type": "code",
   "execution_count": 83,
   "id": "181e2b96-999d-48a0-afa6-24547ec9b4fb",
   "metadata": {},
   "outputs": [],
   "source": [
    "folder_names = ['CSV Files', 'Text Files', 'Image Files','Excel Files']\n",
    "\n",
    "for folder in folder_names:\n",
    "    if not os.path.exists(path +folder):\n",
    "        os.makedirs(path + folder)"
   ]
  },
  {
   "cell_type": "code",
   "execution_count": 84,
   "id": "09f2fe4c-cd30-46a8-8ad4-01df4fc00cfc",
   "metadata": {},
   "outputs": [
    {
     "data": {
      "text/plain": [
       "['CSV Files', 'Excel Files', 'Image Files', 'Text Files']"
      ]
     },
     "execution_count": 84,
     "metadata": {},
     "output_type": "execute_result"
    }
   ],
   "source": [
    "os.listdir(path)"
   ]
  },
  {
   "cell_type": "code",
   "execution_count": 85,
   "id": "52975cc3-07be-4603-a3a1-1b77ddbc557b",
   "metadata": {},
   "outputs": [],
   "source": [
    "file_names = os.listdir(path)"
   ]
  },
  {
   "cell_type": "code",
   "execution_count": 86,
   "id": "337a6b13-c554-43f2-b0e2-fb8840eb77d7",
   "metadata": {},
   "outputs": [],
   "source": [
    "for file in file_names:\n",
    "    if \".csv\" in file and not os.path.exists(path + \"CSV Files\\\\\" + file):\n",
    "        shutil.move(path + file, path + \"CSV Files\\\\\" + file)\n",
    "    elif \".pmg\" in file and not os.path.exists(path + \"Image Files\\\\\" + file):\n",
    "        shutil.move(path + file, path + \"Image Files\\\\\" + file)\n",
    "    elif \".text\" in file and not os.path.exists(path + \"Text Files\\\\\" + file):\n",
    "        shutil.move(path + file, path + \"Text Files\\\\\" + file)\n",
    "    elif \".xlsx\" in file and not os.path.exists(path + \"Excel Files\\\\\" + file):\n",
    "        shutil.move(path + file, path + \"Excel Files\\\\\" + file)"
   ]
  },
  {
   "cell_type": "code",
   "execution_count": null,
   "id": "6b72cf77-ebd7-4a6f-9bd1-87b1b1b42e39",
   "metadata": {},
   "outputs": [],
   "source": [
    "path = r'C:\\Users\\Yeyian PC\\OneDrive\\Documents\\Automatic_Sorter\\\\'\n",
    "\n",
    "folder_names = ['CSV Files', 'Text Files', 'Image Files','Excel Files']\n",
    "\n",
    "for folder in folder_names:\n",
    "    if not os.path.exists(path +folder):\n",
    "        os.makedirs(path + folder)\n",
    "\n",
    "file_names = os.listdir(path)\n",
    "\n",
    "for file in file_names:\n",
    "    if \".csv\" in file and not os.path.exists(path + \"CSV Files\\\\\" + file):\n",
    "        shutil.move(path + file, path + \"CSV Files\\\\\" + file)\n",
    "    elif \".pmg\" in file and not os.path.exists(path + \"Image Files\\\\\" + file):\n",
    "        shutil.move(path + file, path + \"Image Files\\\\\" + file)\n",
    "    elif \".text\" in file and not os.path.exists(path + \"Text Files\\\\\" + file):\n",
    "        shutil.move(path + file, path + \"Text Files\\\\\" + file)\n",
    "    elif \".xlsx\" in file and not os.path.exists(path + \"Excel Files\\\\\" + file):\n",
    "        shutil.move(path + file, path + \"Excel Files\\\\\" + file)\n"
   ]
  },
  {
   "cell_type": "code",
   "execution_count": null,
   "id": "db5a7b35-fa63-4735-83cb-589f46f98cbb",
   "metadata": {},
   "outputs": [],
   "source": []
  }
 ],
 "metadata": {
  "kernelspec": {
   "display_name": "Python [conda env:base] *",
   "language": "python",
   "name": "conda-base-py"
  },
  "language_info": {
   "codemirror_mode": {
    "name": "ipython",
    "version": 3
   },
   "file_extension": ".py",
   "mimetype": "text/x-python",
   "name": "python",
   "nbconvert_exporter": "python",
   "pygments_lexer": "ipython3",
   "version": "3.12.7"
  }
 },
 "nbformat": 4,
 "nbformat_minor": 5
}
